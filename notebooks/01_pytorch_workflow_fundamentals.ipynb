{
  "cells": [
    {
      "cell_type": "markdown",
      "metadata": {
        "id": "view-in-github",
        "colab_type": "text"
      },
      "source": [
        "<a href=\"https://colab.research.google.com/github/Rahmat-ML/PyTorch-Linear-DNN-Fundamentals/blob/main/notebooks/01_pytorch_workflow_fundamentals.ipynb\" target=\"_parent\"><img src=\"https://colab.research.google.com/assets/colab-badge.svg\" alt=\"Open In Colab\"/></a>"
      ]
    },
    {
      "cell_type": "markdown",
      "metadata": {
        "id": "YQrT6F2VCIgf"
      },
      "source": [
        "# 01. PyTorch Workflow Fundamentals\n",
        "\n",
        "This notebook implements a complete, step-by-step deep learning workflow using PyTorch. We will build a simple linear model to learn the pattern of a straight line (`y = weight * X + bias`)."
      ]
    },
    {
      "cell_type": "markdown",
      "metadata": {
        "id": "J4FGJjrOCIgh"
      },
      "source": [
        "## 0. Imports and Setup\n",
        "\n",
        "First, we import the necessary libraries and set up our device-agnostic code to use a GPU if one is available."
      ]
    },
    {
      "cell_type": "code",
      "execution_count": 1,
      "metadata": {
        "id": "Py--4mOxCIgh",
        "outputId": "c69cd3ea-138e-4acd-bcd4-713e73e4000c",
        "colab": {
          "base_uri": "https://localhost:8080/"
        }
      },
      "outputs": [
        {
          "output_type": "stream",
          "name": "stdout",
          "text": [
            "Using device: cpu\n"
          ]
        }
      ],
      "source": [
        "import torch\n",
        "from torch import nn\n",
        "import matplotlib.pyplot as plt\n",
        "from pathlib import Path\n",
        "\n",
        "# Ensure plots appear inline in the notebook\n",
        "%matplotlib inline\n",
        "\n",
        "# Setup device-agnostic code\n",
        "device = \"cuda\" if torch.cuda.is_available() else \"cpu\"\n",
        "print(f\"Using device: {device}\")"
      ]
    },
    {
      "cell_type": "markdown",
      "metadata": {
        "id": "THNGa0IbCIgi"
      },
      "source": [
        "## 1. Data: Create and Prepare Linear Data\n",
        "\n",
        "We create our data using known parameters (`WEIGHT` and `BIAS`). Then, we split it into training (80%) and testing (20%) sets. Finally, we move our data tensors to the target `device`."
      ]
    },
    {
      "cell_type": "code",
      "execution_count": 10,
      "metadata": {
        "id": "yz9D47xHCIgj",
        "outputId": "027c224a-ac41-4506-ee77-3c1f98711094",
        "colab": {
          "base_uri": "https://localhost:8080/"
        }
      },
      "outputs": [
        {
          "output_type": "stream",
          "name": "stdout",
          "text": [
            "Training data points: 40\n",
            "Testing data points: 10\n"
          ]
        }
      ],
      "source": [
        "# Create known parameters for our line equation (y = weight * X + bias)\n",
        "WEIGHT = 0.7\n",
        "BIAS = 0.3\n",
        "\n",
        "# Create input data (X) and corresponding labels (y)\n",
        "start = 0\n",
        "end = 1\n",
        "step = 0.02\n",
        "X = torch.arange(start, end, step).unsqueeze(dim=1) # dim=1 ensures correct shape for linear model\n",
        "y = WEIGHT * X + BIAS\n",
        "\n",
        "# Split data into training (80%) and testing (20%) sets\n",
        "train_split = int(0.8 * len(X))\n",
        "X_train, y_train = X[:train_split], y[:train_split]\n",
        "X_test, y_test = X[train_split:], y[train_split:]\n",
        "\n",
        "# Send data to target device (GPU/CPU)\n",
        "X_train = X_train.to(device)\n",
        "y_train = y_train.to(device)\n",
        "X_test = X_test.to(device)\n",
        "y_test = y_test.to(device)\n",
        "\n",
        "print(f\"Training data points: {len(X_train)}\")\n",
        "print(f\"Testing data points: {len(X_test)}\")"
      ]
    },
    {
      "cell_type": "markdown",
      "metadata": {
        "id": "AsWM7ODSCIgj"
      },
      "source": [
        "Let's define a function to visualize our data."
      ]
    },
    {
      "cell_type": "code",
      "execution_count": 11,
      "metadata": {
        "id": "WJJEoQNICIgk"
      },
      "outputs": [],
      "source": [
        "def plot_predictions(train_data, train_labels, test_data, test_labels, predictions=None):\n",
        "    \"\"\"Plots training data, test data and compares predictions.\"\"\"\n",
        "    # Move data to CPU for use with Matplotlib\n",
        "    train_data_cpu = train_data.cpu().numpy()\n",
        "    train_labels_cpu = train_labels.cpu().numpy()\n",
        "    test_data_cpu = test_data.cpu().numpy()\n",
        "    test_labels_cpu = test_labels.cpu().numpy()\n",
        "\n",
        "    plt.figure(figsize=(10, 7))\n",
        "    plt.title(\"PyTorch Linear Regression Learning\")\n",
        "    plt.xlabel(\"X Feature\")\n",
        "    plt.ylabel(\"Y Label\")\n",
        "\n",
        "    # Plot training data in blue\n",
        "    plt.scatter(train_data_cpu, train_labels_cpu, c=\"b\", s=4, label=\"Training Data\")\n",
        "\n",
        "    # Plot test data in green\n",
        "    plt.scatter(test_data_cpu, test_labels_cpu, c=\"g\", s=4, label=\"Testing Data (True)\")\n",
        "\n",
        "    if predictions is not None:\n",
        "        # Plot the predictions in red\n",
        "        predictions_cpu = predictions.cpu().numpy()\n",
        "        plt.scatter(test_data_cpu, predictions_cpu, c=\"r\", s=8, marker='x', label=\"Predictions (Model Output)\")\n",
        "\n",
        "    plt.legend(prop={\"size\": 14})\n",
        "    plt.grid(True)\n",
        "    plt.show()"
      ]
    },
    {
      "cell_type": "code",
      "execution_count": 12,
      "metadata": {
        "id": "kS61Gf8iCIgk",
        "outputId": "5f5dbeeb-87c7-4a5b-add5-e6ed5c5c37ff",
        "colab": {
          "base_uri": "https://localhost:8080/",
          "height": 641
        }
      },
      "outputs": [
        {
          "output_type": "display_data",
          "data": {
            "text/plain": [
              "<Figure size 1000x700 with 1 Axes>"
            ],
            "image/png": "[encoded data removed]"
          },
          "metadata": {}
        }
      ],
      "source": [
        "plot_predictions(X_train, y_train, X_test, y_test)"
      ]
    },
    {
      "cell_type": "markdown",
      "metadata": {
        "id": "MKhs1Y9rCIgk"
      },
      "source": [
        "## 2. Build Model: The Neural Network Architecture\n",
        "\n",
        "We subclass `nn.Module` to create our custom model. Inside, we use `nn.Linear` which automatically creates the `weight` and `bias` parameters for us."
      ]
    },
    {
      "cell_type": "code",
      "execution_count": 21,
      "metadata": {
        "id": "gYsVDD4hCIgk",
        "outputId": "7f946650-5ddf-45db-a75a-c323f03b484a",
        "colab": {
          "base_uri": "https://localhost:8080/"
        }
      },
      "outputs": [
        {
          "output_type": "stream",
          "name": "stdout",
          "text": [
            "--- Initial Model Parameters (Random) ---\n",
            "OrderedDict({'linear_layer.weight': tensor([[0.7645]]), 'linear_layer.bias': tensor([0.8300])})\n"
          ]
        }
      ],
      "source": [
        "# Subclass nn.Module\n",
        "class LinearRegressionModelV2(nn.Module):\n",
        "    def __init__(self):\n",
        "        super().__init__()\n",
        "        # nn.Linear creates the model's parameters (weights and biases)\n",
        "        self.linear_layer = nn.Linear(in_features=1, out_features=1)\n",
        "\n",
        "    # The forward method defines the computation\n",
        "    def forward(self, x: torch.Tensor) -> torch.Tensor:\n",
        "        return self.linear_layer(x)\n",
        "\n",
        "# Create an instance of the model and move it to the target device\n",
        "torch.manual_seed(42) # Set seed for reproducibility\n",
        "model = LinearRegressionModelV2().to(device)\n",
        "\n",
        "print(\"--- Initial Model Parameters (Random) ---\")\n",
        "print(model.state_dict())"
      ]
    },
    {
      "cell_type": "markdown",
      "metadata": {
        "id": "P25YWVDHCIgk"
      },
      "source": [
        "## 3. Loss Function and Optimizer\n",
        "\n",
        "-   **Loss Function (`nn.L1Loss`):** Measures how wrong the model's predictions are (Mean Absolute Error).\n",
        "-   **Optimizer (`torch.optim.SGD`):** Tells the model how to update its parameters to reduce the loss (Stochastic Gradient Descent)."
      ]
    },
    {
      "cell_type": "code",
      "execution_count": 22,
      "metadata": {
        "id": "yzdhHfeNCIgk"
      },
      "outputs": [],
      "source": [
        "# The loss function measures how wrong the model's predictions are.\n",
        "loss_fn = nn.L1Loss()\n",
        "\n",
        "# The optimizer tells the model how to update its parameters to reduce the loss.\n",
        "optimizer = torch.optim.SGD(\n",
        "    params=model.parameters(), # Parameters to optimize\n",
        "    lr=0.01                    # Learning Rate\n",
        ")"
      ]
    },
    {
      "cell_type": "markdown",
      "metadata": {
        "id": "gpQ3UiejCIgk"
      },
      "source": [
        "## 4. Training Loop: The Learning Process\n",
        "\n",
        "This is the core of deep learning. We loop over the data many times (`epochs`) and perform the key steps:\n",
        "1.  **Forward pass:** Get predictions.\n",
        "2.  **Calculate loss:** See how wrong the predictions are.\n",
        "3.  **Zero gradients:** Reset optimizer gradients.\n",
        "4.  **Backpropagation:** Calculate gradients (error signals).\n",
        "5.  **Optimizer step:** Update model parameters to improve."
      ]
    },
    {
      "cell_type": "code",
      "execution_count": 23,
      "metadata": {
        "id": "9KXgfM25CIgk",
        "outputId": "9b5b9b04-3c17-4700-c4ce-3db680aa8c79",
        "colab": {
          "base_uri": "https://localhost:8080/"
        }
      },
      "outputs": [
        {
          "output_type": "stream",
          "name": "stdout",
          "text": [
            "--- Training for 1000 Epochs ---\n",
            "Epoch:    0 | Train Loss: 0.5552 | Test Loss: 0.5740\n",
            "Epoch:  100 | Train Loss: 0.0062 | Test Loss: 0.0141\n",
            "Epoch:  200 | Train Loss: 0.0013 | Test Loss: 0.0138\n",
            "Epoch:  300 | Train Loss: 0.0013 | Test Loss: 0.0138\n",
            "Epoch:  400 | Train Loss: 0.0013 | Test Loss: 0.0138\n",
            "Epoch:  500 | Train Loss: 0.0013 | Test Loss: 0.0138\n",
            "Epoch:  600 | Train Loss: 0.0013 | Test Loss: 0.0138\n",
            "Epoch:  700 | Train Loss: 0.0013 | Test Loss: 0.0138\n",
            "Epoch:  800 | Train Loss: 0.0013 | Test Loss: 0.0138\n",
            "Epoch:  900 | Train Loss: 0.0013 | Test Loss: 0.0138\n"
          ]
        }
      ],
      "source": [
        "epochs = 1000\n",
        "print(f\"--- Training for {epochs} Epochs ---\")\n",
        "\n",
        "for epoch in range(epochs):\n",
        "\n",
        "    # 1. Set model to training mode\n",
        "    model.train()\n",
        "\n",
        "    # 2. Forward pass\n",
        "    y_pred = model(X_train)\n",
        "\n",
        "    # 3. Calculate loss\n",
        "    loss = loss_fn(y_pred, y_train)\n",
        "\n",
        "    # 4. Zero gradients\n",
        "    optimizer.zero_grad()\n",
        "\n",
        "    # 5. Backpropagation\n",
        "    loss.backward()\n",
        "\n",
        "    # 6. Optimizer step (Gradient Descent)\n",
        "    optimizer.step()\n",
        "\n",
        "    # --- Testing/Evaluation ---\n",
        "    model.eval()\n",
        "    with torch.inference_mode():\n",
        "        test_pred = model(X_test)\n",
        "        test_loss = loss_fn(test_pred, y_test)\n",
        "\n",
        "    if epoch % 100 == 0:\n",
        "        print(f\"Epoch: {epoch:4d} | Train Loss: {loss:.4f} | Test Loss: {test_loss:.4f}\")"
      ]
    },
    {
      "cell_type": "markdown",
      "metadata": {
        "id": "zwlxoUX-CIgk"
      },
      "source": [
        "After training, let's check the parameters our model has learned. They should be very close to our original `WEIGHT = 0.7` and `BIAS = 0.3`."
      ]
    },
    {
      "cell_type": "code",
      "execution_count": 24,
      "metadata": {
        "id": "nRu5ck_SCIgl",
        "outputId": "4def0a30-ee03-40ef-d9dd-0ef77673afc1",
        "colab": {
          "base_uri": "https://localhost:8080/"
        }
      },
      "outputs": [
        {
          "output_type": "stream",
          "name": "stdout",
          "text": [
            "\n",
            "--- Final Model Parameters (Learned) ---\n",
            "OrderedDict({'linear_layer.weight': tensor([[0.6968]]), 'linear_layer.bias': tensor([0.3025])})\n",
            "Original Parameters: Weight=0.7, Bias=0.3\n"
          ]
        }
      ],
      "source": [
        "print(\"\\n--- Final Model Parameters (Learned) ---\")\n",
        "print(model.state_dict())\n",
        "print(f\"Original Parameters: Weight={WEIGHT}, Bias={BIAS}\")"
      ]
    },
    {
      "cell_type": "markdown",
      "metadata": {
        "id": "JMMuL438CIgl"
      },
      "source": [
        "## 5. Making Predictions (Inference) and Visualization\n",
        "\n",
        "Now we use our trained model to make predictions on the test data and visualize the results. The red 'x' marks should align closely with the green 'Testing Data' points."
      ]
    },
    {
      "cell_type": "code",
      "execution_count": 25,
      "metadata": {
        "id": "H00q7srOCIgl",
        "outputId": "4e70cb8f-3c7b-4424-890f-df3d55aaa163",
        "colab": {
          "base_uri": "https://localhost:8080/",
          "height": 641
        }
      },
      "outputs": [
        {
          "output_type": "display_data",
          "data": {
            "text/plain": [
              "<Figure size 1000x700 with 1 Axes>"
            ],
            "image/png": "[encoded data removed]"
          },
          "metadata": {}
        }
      ],
      "source": [
        "# Set model to evaluation mode\n",
        "model.eval()\n",
        "\n",
        "# Make predictions on the test data\n",
        "with torch.inference_mode():\n",
        "    y_preds = model(X_test)\n",
        "\n",
        "# Plot the predictions\n",
        "plot_predictions(X_train, y_train, X_test, y_test, predictions=y_preds)"
      ]
    },
    {
      "cell_type": "markdown",
      "metadata": {
        "id": "7nBU1fsuCIgl"
      },
      "source": [
        "## 6. Saving and Loading the Model\n",
        "\n",
        "This is crucial for deploying your model. We save the model's *parameters* (the `state_dict`) and then load them into a new, untrained instance of the model to prove it works."
      ]
    },
    {
      "cell_type": "code",
      "execution_count": 26,
      "metadata": {
        "id": "CB97b7ZpCIgl",
        "outputId": "a87dc416-1e0c-4229-8e1e-34ad80429773",
        "colab": {
          "base_uri": "https://localhost:8080/"
        }
      },
      "outputs": [
        {
          "output_type": "stream",
          "name": "stdout",
          "text": [
            "Saving model state_dict to: models/linear_regression_model.pth\n"
          ]
        }
      ],
      "source": [
        "MODEL_PATH = Path(\"models\")\n",
        "MODEL_PATH.mkdir(parents=True, exist_ok=True) # Create models directory\n",
        "\n",
        "MODEL_NAME = \"linear_regression_model.pth\"\n",
        "MODEL_SAVE_PATH = MODEL_PATH / MODEL_NAME\n",
        "\n",
        "# Save the model's state_dict (recommended method)\n",
        "print(f\"Saving model state_dict to: {MODEL_SAVE_PATH}\")\n",
        "torch.save(obj=model.state_dict(), f=MODEL_SAVE_PATH)"
      ]
    },
    {
      "cell_type": "code",
      "execution_count": 27,
      "metadata": {
        "id": "sLOHi451CIgn",
        "outputId": "e82c5940-e1a4-4243-c663-5a8c038f6e1a",
        "colab": {
          "base_uri": "https://localhost:8080/"
        }
      },
      "outputs": [
        {
          "output_type": "stream",
          "name": "stdout",
          "text": [
            "Loaded model's initial state:\n",
            "OrderedDict({'linear_layer.weight': tensor([[-0.2343]]), 'linear_layer.bias': tensor([0.9186])})\n",
            "\n",
            "Loaded model's *trained* state:\n",
            "OrderedDict({'linear_layer.weight': tensor([[0.6968]]), 'linear_layer.bias': tensor([0.3025])})\n",
            "\n",
            "Predictions from saved/loaded model match original predictions: True\n"
          ]
        }
      ],
      "source": [
        "# Load the model state_dict\n",
        "\n",
        "# 1. Create a new, untrained instance of the model\n",
        "loaded_model = LinearRegressionModelV2().to(device)\n",
        "print(f\"Loaded model's initial state:\\n{loaded_model.state_dict()}\\n\")\n",
        "\n",
        "# 2. Load the saved parameters\n",
        "loaded_model.load_state_dict(torch.load(f=MODEL_SAVE_PATH))\n",
        "print(f\"Loaded model's *trained* state:\\n{loaded_model.state_dict()}\\n\")\n",
        "\n",
        "# 3. Verify predictions from the loaded model match the original model\n",
        "loaded_model.eval()\n",
        "with torch.inference_mode():\n",
        "    loaded_model_preds = loaded_model(X_test)\n",
        "\n",
        "is_close = torch.allclose(y_preds, loaded_model_preds)\n",
        "print(f\"Predictions from saved/loaded model match original predictions: {is_close}\")"
      ]
    }
  ],
  "metadata": {
    "kernelspec": {
      "display_name": "Python 3",
      "language": "python",
      "name": "python3"
    },
    "language_info": {
      "codemirror_mode": {
        "name": "ipython",
        "version": 3
      },
      "file_extension": ".py",
      "mimetype": "text/x-python",
      "name": "python",
      "nbconvert_exporter": "python",
      "pygments_lexer": "ipython3",
      "version": "3.10.9"
    },
    "colab": {
      "provenance": [],
      "toc_visible": true,
      "include_colab_link": true
    }
  },
  "nbformat": 4,
  "nbformat_minor": 0
}